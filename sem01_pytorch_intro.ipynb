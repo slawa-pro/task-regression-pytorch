{
  "cells": [
    {
      "cell_type": "markdown",
      "metadata": {
        "id": "view-in-github",
        "colab_type": "text"
      },
      "source": [
        "<a href=\"https://colab.research.google.com/github/slawa-pro/task-regression-pytorch/blob/main/sem01_pytorch_intro.ipynb\" target=\"_parent\"><img src=\"https://colab.research.google.com/assets/colab-badge.svg\" alt=\"Open In Colab\"/></a>"
      ]
    },
    {
      "cell_type": "markdown",
      "metadata": {
        "id": "7Vw2wKJCb0tv"
      },
      "source": [
        "<center>\n",
        "<img src=\"https://camo.githubusercontent.com/1faf678af2925dc98a2fb877b80461f1c992b9e7e229412e5d6b729c49246ffa/68747470733a2f2f7079746f7263682e6f72672f7475746f7269616c732f5f7374617469632f7079746f7263682d6c6f676f2d6461726b2e737667\" height=\"400\" width=\"800\">\n",
        "\n",
        "# Семинар 1: введение в PyTorch\n",
        "</center>"
      ]
    },
    {
      "cell_type": "markdown",
      "metadata": {
        "id": "3YnknSkcb0tz"
      },
      "source": [
        "Фрэймворком для обучения нейросеток на нашем курсе будет PyTorch. Раньше это был Tensorflow. [В прошлом запуске курса](https://github.com/FUlyankin/deep_learning_tf) можно найти много тетрадок с кодом на второй версии библиотеки.\n",
        "\n",
        "В этом году я окончательно решил перевести весь курс на PyTorch. Кажется, что [Google признал его победу](https://t.me/gonzo_ML/1026) и переходит на новую библиотеку, JAX. Если кому-то интересно, он может подробнее почитать про [раличия между Tensorflow и Pytorch.](https://towardsdatascience.com/pytorch-vs-tensorflow-spotting-the-difference-25c75777377b)\n",
        "\n",
        "Ну а мы помянем Tensorflof, нажмём дружно F и больше не будем про него вспоминать в этом курсе."
      ]
    },
    {
      "cell_type": "markdown",
      "metadata": {
        "id": "Mi-xZooSb0t0"
      },
      "source": [
        "Устанавливаем библиотеку\n",
        "\n",
        "```\n",
        "pip install torch torchvision\n",
        "```\n",
        "\n",
        "Дополнительно с торчом выходят `torchvision` и `torchaudio`. В них куча всяких методов дял работы с изображениями и звуком. Обе эти библиотеки тоже можно поставить виесте с торчом. Первая из них уже сегодня нам понадобится."
      ]
    },
    {
      "cell_type": "code",
      "execution_count": null,
      "metadata": {
        "id": "88FGESndb0t0"
      },
      "outputs": [],
      "source": [
        "import numpy as np\n",
        "np.__version__"
      ]
    },
    {
      "cell_type": "code",
      "execution_count": null,
      "metadata": {
        "id": "4Yvh1_hgb0t1"
      },
      "outputs": [],
      "source": [
        "import torch\n",
        "torch.__version__"
      ]
    },
    {
      "cell_type": "markdown",
      "metadata": {
        "id": "xzQOu4yab0t2"
      },
      "source": [
        "# 1. Тензоры и базовые операции над ними\n",
        "\n",
        "Основной объект в PyTorch - это **тензор.** Или многомерный массив чисел. Чтобы не нужно было учить кучу новых команд, PyTorch косплеит numpy.\n",
        "\n",
        "```\n",
        "    np.zeros -> torch.zeros\n",
        "    np.sin -> torch.sin\n",
        "    np.cumsum -> torch.cumsum\n",
        "    \n",
        "    x.reshape([1,2,8]) -> x.view(1,2,8)\n",
        "    x.sum(axis=-1) -> x.sum(dim=-1)\n",
        "    x.astype('int64') -> x.type(torch.LongTensor)\n",
        "```\n",
        "\n",
        "Правда говоря, не совсем косплеит. Но чаще всего оказывается довольно близок. Для помощи вам есть [таблица](https://github.com/torch/torch7/wiki/Torch-for-Numpy-users), которая поможет вам найти аналог операции в numpy."
      ]
    },
    {
      "cell_type": "code",
      "execution_count": null,
      "metadata": {
        "id": "kGb7xRBxb0t2"
      },
      "outputs": [],
      "source": [
        "# как в нумпае можно объявить вектор\n",
        "x = torch.tensor([1, 2, 3, 4])\n",
        "x"
      ]
    },
    {
      "cell_type": "code",
      "execution_count": null,
      "metadata": {
        "id": "FBUNClw_b0t3"
      },
      "outputs": [],
      "source": [
        "# можно задать тензор из нулей\n",
        "torch.zeros([3, 4])"
      ]
    },
    {
      "cell_type": "code",
      "execution_count": null,
      "metadata": {
        "id": "WXy0oDmRb0t3"
      },
      "outputs": [],
      "source": [
        "# или из единиц, но уже более сложной размерности\n",
        "torch.ones([3, 4, 2])"
      ]
    },
    {
      "cell_type": "code",
      "execution_count": null,
      "metadata": {
        "id": "kmGeWf54b0t3"
      },
      "outputs": [],
      "source": [
        "# можно сгенерировать тензор из стандартного нормального распределения\n",
        "torch.randn([2,2])"
      ]
    },
    {
      "cell_type": "code",
      "execution_count": null,
      "metadata": {
        "id": "5zAx_l5wb0t4"
      },
      "outputs": [],
      "source": [
        "x = torch.empty(5, 3) # пустой тензор\n",
        "x"
      ]
    },
    {
      "cell_type": "code",
      "execution_count": null,
      "metadata": {
        "id": "R4Rc0N4xb0t4"
      },
      "outputs": [],
      "source": [
        "# тензор с нулями и указанием типов чисел\n",
        "x = torch.zeros(5, 3, dtype=torch.double)\n",
        "print(x)"
      ]
    },
    {
      "cell_type": "code",
      "execution_count": null,
      "metadata": {
        "id": "Kw4q_9FAb0t4"
      },
      "outputs": [],
      "source": [
        " # используем уже созданный тензор для создания тензора из единичек\n",
        "x = x.new_ones(5, 3, dtype=torch.double)\n",
        "print(x)"
      ]
    },
    {
      "cell_type": "code",
      "execution_count": null,
      "metadata": {
        "id": "aauMkJVAb0t4"
      },
      "outputs": [],
      "source": [
        "# создаем матрицу с размерами как у x\n",
        "x = torch.randn_like(x, dtype=torch.float)\n",
        "print(x)"
      ]
    },
    {
      "cell_type": "code",
      "execution_count": null,
      "metadata": {
        "id": "KCoi93Dtb0t5"
      },
      "outputs": [],
      "source": [
        "x.double() # можно поменяить тип данных"
      ]
    },
    {
      "cell_type": "code",
      "execution_count": null,
      "metadata": {
        "id": "cSag3D-Nb0t5"
      },
      "outputs": [],
      "source": [
        "x.int()"
      ]
    },
    {
      "cell_type": "code",
      "execution_count": null,
      "metadata": {
        "id": "CLs0dhupb0t5"
      },
      "outputs": [],
      "source": [
        "# как думаете, почему не пишет dtype?\n",
        "x.float()"
      ]
    },
    {
      "cell_type": "markdown",
      "metadata": {
        "id": "0ZoMMyleb0t5"
      },
      "source": [
        "Все срезы, операции, размерности работают как в numpy."
      ]
    },
    {
      "cell_type": "code",
      "execution_count": null,
      "metadata": {
        "id": "eVk_wPFDb0t5"
      },
      "outputs": [],
      "source": [
        "x.size()"
      ]
    },
    {
      "cell_type": "code",
      "execution_count": null,
      "metadata": {
        "id": "uLYXMCIgb0t5"
      },
      "outputs": [],
      "source": [
        "x.dtype"
      ]
    },
    {
      "cell_type": "code",
      "execution_count": null,
      "metadata": {
        "id": "da55F3a1b0t5"
      },
      "outputs": [],
      "source": [
        "x.shape"
      ]
    },
    {
      "cell_type": "code",
      "execution_count": null,
      "metadata": {
        "id": "jQjFIow_b0t5"
      },
      "outputs": [],
      "source": [
        "x[0]"
      ]
    },
    {
      "cell_type": "code",
      "execution_count": null,
      "metadata": {
        "id": "WDy0YL6Sb0t5"
      },
      "outputs": [],
      "source": [
        "x[:,1]"
      ]
    },
    {
      "cell_type": "code",
      "execution_count": null,
      "metadata": {
        "id": "QFOOiyN8b0t6"
      },
      "outputs": [],
      "source": [
        "x + 10"
      ]
    },
    {
      "cell_type": "code",
      "execution_count": null,
      "metadata": {
        "id": "tKmCtXhMb0t6"
      },
      "outputs": [],
      "source": [
        "torch.exp(x)"
      ]
    },
    {
      "cell_type": "code",
      "execution_count": null,
      "metadata": {
        "id": "bjMTl59Xb0t6"
      },
      "outputs": [],
      "source": [
        "x[x > 0]"
      ]
    },
    {
      "cell_type": "code",
      "execution_count": null,
      "metadata": {
        "id": "eVNIaYVAb0t6"
      },
      "outputs": [],
      "source": [
        "y = torch.rand(5, 3)\n",
        "y"
      ]
    },
    {
      "cell_type": "code",
      "execution_count": null,
      "metadata": {
        "id": "O7rHuYBNb0t6"
      },
      "outputs": [],
      "source": [
        "print(x + y) # операция сложение"
      ]
    },
    {
      "cell_type": "code",
      "execution_count": null,
      "metadata": {
        "id": "39aHiS-xb0t6"
      },
      "outputs": [],
      "source": [
        "z = torch.add(x, y) # очередная операция сложения\n",
        "print(z)"
      ]
    },
    {
      "cell_type": "code",
      "execution_count": null,
      "metadata": {
        "id": "IfdlvnfOb0t6"
      },
      "outputs": [],
      "source": [
        "torch.add(x, y, out=z) # и наконец последний вид\n",
        "print(z)"
      ]
    },
    {
      "cell_type": "code",
      "execution_count": null,
      "metadata": {
        "id": "CnaXHiyab0t6"
      },
      "outputs": [],
      "source": [
        "print(x * y) # поэлементное умножение"
      ]
    },
    {
      "cell_type": "code",
      "execution_count": null,
      "metadata": {
        "id": "IIUy_Ph1b0t6"
      },
      "outputs": [],
      "source": [
        "print(x @ y.t()) # матричное умножение"
      ]
    },
    {
      "cell_type": "code",
      "execution_count": null,
      "metadata": {
        "id": "xR1pyS5vb0t7"
      },
      "outputs": [],
      "source": [
        "# и опять матричное умножение\n",
        "print(x.mm(y.t()))"
      ]
    },
    {
      "cell_type": "code",
      "execution_count": null,
      "metadata": {
        "id": "OJhaayq3b0t7"
      },
      "outputs": [],
      "source": [
        "# добавили измерение в начало, аналог броадкастинга\n",
        "print(x.unsqueeze(0).shape)"
      ]
    },
    {
      "cell_type": "code",
      "execution_count": null,
      "metadata": {
        "id": "8ZFU_lYpb0t7"
      },
      "outputs": [],
      "source": [
        "x.unsqueeze(0)"
      ]
    },
    {
      "cell_type": "code",
      "execution_count": null,
      "metadata": {
        "id": "p8Dh0sXqb0t7"
      },
      "outputs": [],
      "source": [
        "# убрали измерение в начале, аналог броадкастинга\n",
        "print(x.unsqueeze(0).squeeze(0).shape)"
      ]
    },
    {
      "cell_type": "code",
      "execution_count": null,
      "metadata": {
        "id": "pBpiyPLRb0t7"
      },
      "outputs": [],
      "source": [
        "x.unsqueeze(0).squeeze(0)"
      ]
    },
    {
      "cell_type": "markdown",
      "metadata": {
        "id": "HFBxKDrjb0t7"
      },
      "source": [
        "Мы также можем переводить матрицы назад в numpy:"
      ]
    },
    {
      "cell_type": "code",
      "execution_count": null,
      "metadata": {
        "id": "Bs0h3s1jb0t7"
      },
      "outputs": [],
      "source": [
        "x.numpy()"
      ]
    },
    {
      "cell_type": "markdown",
      "metadata": {
        "id": "tHDzVV-Tb0uB"
      },
      "source": [
        "### Задание 1:\n",
        "\n",
        "- При помощи numpy посчитайте сумму квадратов чисел от 1 до 10000\n",
        "- Сделайте то же самое с помощью pytorch"
      ]
    },
    {
      "cell_type": "code",
      "execution_count": null,
      "metadata": {
        "id": "ohWdbRCtb0uB",
        "colab": {
          "base_uri": "https://localhost:8080/",
          "height": 144
        },
        "outputId": "4242788c-e679-462d-deee-feb25aea1526"
      },
      "outputs": [
        {
          "output_type": "error",
          "ename": "NameError",
          "evalue": "name 'np' is not defined",
          "traceback": [
            "\u001b[0;31m---------------------------------------------------------------------------\u001b[0m",
            "\u001b[0;31mNameError\u001b[0m                                 Traceback (most recent call last)",
            "\u001b[0;32m/tmp/ipython-input-1-1335505588.py\u001b[0m in \u001b[0;36m<cell line: 0>\u001b[0;34m()\u001b[0m\n\u001b[0;32m----> 1\u001b[0;31m \u001b[0mnp\u001b[0m\u001b[0;34m.\u001b[0m\u001b[0msquare\u001b[0m\u001b[0;34m(\u001b[0m\u001b[0mnp\u001b[0m\u001b[0;34m.\u001b[0m\u001b[0marange\u001b[0m\u001b[0;34m(\u001b[0m\u001b[0;36m1\u001b[0m\u001b[0;34m,\u001b[0m \u001b[0;36m10_000\u001b[0m\u001b[0;34m+\u001b[0m\u001b[0;36m1\u001b[0m\u001b[0;34m)\u001b[0m\u001b[0;34m)\u001b[0m\u001b[0;34m.\u001b[0m\u001b[0msum\u001b[0m\u001b[0;34m(\u001b[0m\u001b[0;34m)\u001b[0m\u001b[0;34m\u001b[0m\u001b[0;34m\u001b[0m\u001b[0m\n\u001b[0m",
            "\u001b[0;31mNameError\u001b[0m: name 'np' is not defined"
          ]
        }
      ],
      "source": [
        "np.square(np.arange(1, 10_000+1)).sum()"
      ]
    },
    {
      "cell_type": "code",
      "execution_count": null,
      "metadata": {
        "id": "LV8hqluCb0uB",
        "colab": {
          "base_uri": "https://localhost:8080/"
        },
        "outputId": "8cfaca0e-9b74-45ca-82d1-151350a24be6"
      },
      "outputs": [
        {
          "output_type": "execute_result",
          "data": {
            "text/plain": [
              "333383335000"
            ]
          },
          "metadata": {},
          "execution_count": 2
        }
      ],
      "source": [
        "# .item() возвращает число из тензора.\n",
        "# Без этого будет тензор размерности 1x1\n",
        "import torch\n",
        "torch.square(torch.arange(1, 10_000+1)).sum().item()"
      ]
    },
    {
      "cell_type": "code",
      "execution_count": null,
      "metadata": {
        "id": "MSqh4L3Rb0uB"
      },
      "outputs": [],
      "source": [
        "# ващ код  ¯\\_(⊙︿⊙)_/¯"
      ]
    },
    {
      "cell_type": "markdown",
      "metadata": {
        "id": "ynf1XqEJb0uB"
      },
      "source": [
        "### Задание 2:\n",
        "\n",
        "Реализуйте на PyTorch сигмоиду\n",
        "\n",
        "$$ \\sigma(x) = \\frac{1}{1 + e^{-x}} $$"
      ]
    },
    {
      "cell_type": "code",
      "execution_count": null,
      "metadata": {
        "id": "bhyhCzU_b0uC"
      },
      "outputs": [],
      "source": [
        "# ващ код  ¯\\_(⊙︿⊙)_/¯"
      ]
    },
    {
      "cell_type": "markdown",
      "metadata": {
        "id": "4d6kpX30b0uC"
      },
      "source": [
        "### Задание 3:\n",
        "\n",
        "Реализуйте на PyTorch среднюю квадратичную ошибку.\n",
        "\n",
        "$$\n",
        "MSE(\\hat y, y) = \\frac{1}{n} \\cdot \\sum_{i=1}^n (\\hat y - y)^2\n",
        "$$"
      ]
    },
    {
      "cell_type": "code",
      "execution_count": null,
      "metadata": {
        "id": "c4fkkN3xb0uC"
      },
      "outputs": [],
      "source": [
        "# ващ код  ¯\\_(⊙︿⊙)_/¯"
      ]
    },
    {
      "cell_type": "code",
      "execution_count": null,
      "metadata": {
        "id": "RkmBvPqub0uC"
      },
      "outputs": [],
      "source": [
        "def mse(y_true, y_predict):\n",
        "    return torch.mean((y_true - y_pred)**2)\n",
        "\n",
        "z = mse(y_test, y_pred)\n",
        "z.item()"
      ]
    },
    {
      "cell_type": "markdown",
      "metadata": {
        "id": "REBJeo90b0uC"
      },
      "source": [
        "### Задание 4:\n",
        "\n",
        "Что будет в переменной `x` в результате выполнения следующего кода? Почему?"
      ]
    },
    {
      "cell_type": "code",
      "execution_count": null,
      "metadata": {
        "id": "DCKt_2JXb0uC"
      },
      "outputs": [],
      "source": [
        "import torch\n",
        "x = torch.tensor([[1, 2, 3], [4, 5, 6], [7, 8, 9]])\n",
        "y = x\n",
        "y[2] = torch.ones(3)"
      ]
    },
    {
      "cell_type": "markdown",
      "metadata": {
        "id": "hF0ef2zpb0uC"
      },
      "source": [
        "Как это можно исправить?"
      ]
    },
    {
      "cell_type": "code",
      "execution_count": null,
      "metadata": {
        "id": "GyxLy34bb0uD"
      },
      "outputs": [],
      "source": [
        "# ващ код  ¯\\_(⊙︿⊙)_/¯"
      ]
    },
    {
      "cell_type": "markdown",
      "metadata": {
        "id": "HWlytovLb0uD"
      },
      "source": [
        "------------------------------------------"
      ]
    },
    {
      "cell_type": "markdown",
      "metadata": {
        "id": "hr-OfXYOb0uD"
      },
      "source": [
        "# 2. Производные да градиенты\n",
        "\n",
        "Если в PyTorch те же самые операции, что и в numpy, то на кой чёрт он нам нужен? В отличие от numpy, в PyTorch есть возможность при создании тензора указывать нужно ли считать по нему градиент или нет, с помощью параметра `requires_grad`.\n",
        "\n",
        "Когда `requires_grad=True` мы сообщаем фреймворку, о том, что мы хотим следить за всеми тензорами, которые получаются из созданного. Иными словами, у любого тензора, у которого указан данный параметр, будет доступ к цепочке операций и преобразований совершенными с ними. Если эти функции дифференцируемые, то у тензора появляется параметр `.grad`, в котором хранится значение градиента.\n",
        "\n",
        "Он проходит по всем операциям, которые фигурируют в графе вычислений, и применяет к ним chain rule:\n",
        "\n",
        "$$ {\\partial f(g(x)) \\over \\partial x} = {\\partial f(g(x)) \\over \\partial g(x)}\\cdot {\\partial g(x) \\over \\partial x} $$\n",
        "\n",
        "Давайте попробуем!"
      ]
    },
    {
      "cell_type": "code",
      "execution_count": null,
      "metadata": {
        "id": "54W9YNcEb0uD"
      },
      "outputs": [],
      "source": [
        "x = torch.tensor(\n",
        "    [0.3, 1], requires_grad=True\n",
        ")"
      ]
    },
    {
      "cell_type": "code",
      "execution_count": null,
      "metadata": {
        "id": "yp1NhTPvb0uE"
      },
      "outputs": [],
      "source": [
        "y = torch.sum(x)\n",
        "z = y ** 2"
      ]
    },
    {
      "cell_type": "markdown",
      "metadata": {
        "id": "riH3bWdzb0uE"
      },
      "source": [
        "Если к результирующему тензору применить метод `.backward()`, то фреймворк посчитает по цепочке градиенты для всех тензоров, у которых `requires_grad=True.`"
      ]
    },
    {
      "cell_type": "code",
      "execution_count": null,
      "metadata": {
        "id": "jQivU2Qeb0uE"
      },
      "outputs": [],
      "source": [
        "# пока градиента нет\n",
        "print(x.grad, '<- gradient')"
      ]
    },
    {
      "cell_type": "code",
      "execution_count": null,
      "metadata": {
        "id": "Z7RFIoRIb0uE"
      },
      "outputs": [],
      "source": [
        "z.backward() # считаем градиент\n",
        "print(x.grad, '<- gradient')"
      ]
    },
    {
      "cell_type": "markdown",
      "metadata": {
        "id": "opdTd26vb0uE"
      },
      "source": [
        "**Важно:** если вы вычисляете градиент дважды, градиенты будут суммироваться в тензорах, поэтому полезно обнулять градиенты между итерациями.\n",
        "\n",
        "Обычно мы обучаем модель не по одному объекту, а на большой выборке. Вся выборка обычно в память не влезает. Мы прогоняем через нейросеть данные батчами. PyTorch позволяет накапливать градиенты по батчам не помещая в память все данные. Иногда это оказывается полезным."
      ]
    },
    {
      "cell_type": "code",
      "execution_count": null,
      "metadata": {
        "id": "5s8toLycb0uE"
      },
      "outputs": [],
      "source": [
        "# можно посмотреть на порядок действий\n",
        "print(z.grad_fn)\n",
        "print(z.grad_fn.next_functions[0][0])\n",
        "print(z.grad_fn.next_functions[0][0].next_functions[0][0])"
      ]
    },
    {
      "cell_type": "markdown",
      "metadata": {
        "id": "gd75gCm5b0uF"
      },
      "source": [
        "### Задание 5:\n",
        "\n",
        "Реализуйте расчёт градиента для функции\n",
        "\n",
        "$$\n",
        "f(w) = \\prod_{i,j} \\ln(\\ln(w_{ij} + 7)\n",
        "$$\n",
        "\n",
        "в точке `w = [[5,10], [1,2]]`"
      ]
    },
    {
      "cell_type": "code",
      "execution_count": null,
      "metadata": {
        "id": "We8AIfnGb0uF"
      },
      "outputs": [],
      "source": [
        "# ващ код  ¯\\_(⊙︿⊙)_/¯"
      ]
    },
    {
      "cell_type": "markdown",
      "metadata": {
        "id": "yk5Kb4Ywb0uF"
      },
      "source": [
        "------------------------------------------"
      ]
    },
    {
      "cell_type": "markdown",
      "metadata": {
        "id": "0d85CcnNb0uF"
      },
      "source": [
        "# 3. Оптимизация\n",
        "\n",
        "Итак, PyTorch умеет искать производные, осталось научиться применять его для оптимизации.\n",
        "\n",
        "Давайте обучим линейную регрессию."
      ]
    },
    {
      "cell_type": "code",
      "execution_count": null,
      "metadata": {
        "id": "FROUQ3qjb0uF"
      },
      "outputs": [],
      "source": [
        "import pandas as pd\n",
        "\n",
        "data_url = \"http://lib.stat.cmu.edu/datasets/boston\"\n",
        "raw_df = pd.read_csv(data_url, sep=\"\\s+\", skiprows=22, header=None)\n",
        "data = np.hstack([raw_df.values[::2, :], raw_df.values[1::2, :2]])\n",
        "target = raw_df.values[1::2, 2]\n",
        "\n",
        "plt.scatter(data[:, -1], target);"
      ]
    },
    {
      "cell_type": "markdown",
      "metadata": {
        "id": "uzcHyXPlb0uF"
      },
      "source": [
        "Нам надо обучить линейную регрессию."
      ]
    },
    {
      "cell_type": "code",
      "execution_count": null,
      "metadata": {
        "id": "Mpfu-TAub0uG"
      },
      "outputs": [],
      "source": [
        "w = torch.randn(1, requires_grad=True)\n",
        "b = torch.randn(1, requires_grad=True)"
      ]
    },
    {
      "cell_type": "code",
      "execution_count": null,
      "metadata": {
        "id": "iWY5-GXGb0uG"
      },
      "outputs": [],
      "source": [
        "w, b"
      ]
    },
    {
      "cell_type": "code",
      "execution_count": null,
      "metadata": {
        "id": "_RtLXTgIb0uG"
      },
      "outputs": [],
      "source": [
        "x = torch.tensor(data[:, -1] / data[:, -1].max(), dtype=torch.float32)\n",
        "y = torch.tensor(target, dtype=torch.float32)"
      ]
    },
    {
      "cell_type": "code",
      "execution_count": null,
      "metadata": {
        "id": "p26TCKEYb0uG"
      },
      "outputs": [],
      "source": [
        "# Наша модель\n",
        "def linear_regression(x):\n",
        "    return w*x + b\n",
        "\n",
        "# Ошибка для модели\n",
        "def mean_square(y_pred, y_true):\n",
        "    return torch.mean((y_pred-y_true)**2)"
      ]
    },
    {
      "cell_type": "code",
      "execution_count": null,
      "metadata": {
        "id": "TUOQFb14b0uG"
      },
      "outputs": [],
      "source": [
        "pred = linear_regression(x)\n",
        "pred.shape"
      ]
    },
    {
      "cell_type": "code",
      "execution_count": null,
      "metadata": {
        "id": "vsjKKO2kb0uG"
      },
      "outputs": [],
      "source": [
        "loss = mean_square(pred, y)\n",
        "loss"
      ]
    },
    {
      "cell_type": "code",
      "execution_count": null,
      "metadata": {
        "id": "dCRX239eb0uG"
      },
      "outputs": [],
      "source": [
        "# считаем градиенты\n",
        "loss.backward()"
      ]
    },
    {
      "cell_type": "code",
      "execution_count": null,
      "metadata": {
        "id": "2Z4Vu3Xbb0uG"
      },
      "outputs": [],
      "source": [
        "print(\"dL/dw = \\n\", w.grad)\n",
        "print(\"dL/db = \\n\", b.grad)"
      ]
    },
    {
      "cell_type": "markdown",
      "metadata": {
        "id": "NQtIi-gWb0uG"
      },
      "source": [
        "Обучим нашу линейную регрессию."
      ]
    },
    {
      "cell_type": "code",
      "execution_count": null,
      "metadata": {
        "id": "S5dS_jXJb0uH"
      },
      "outputs": [],
      "source": [
        "from IPython.display import clear_output\n",
        "\n",
        "epochs = 1000 # число эпох\n",
        "\n",
        "w = torch.randn(1, requires_grad=True)\n",
        "b = torch.randn(1, requires_grad=True)\n",
        "\n",
        "for i in range(epochs):\n",
        "\n",
        "    y_pred = w * x + b\n",
        "    loss = torch.mean((y_pred - y)**2)\n",
        "    print(loss)\n",
        "    loss.backward()\n",
        "\n",
        "    # делаем шаг градиентного спуска с lr = .05\n",
        "    w.data -= 0.05 * w.grad.data\n",
        "    b.data -= 0.05 * b.grad.data\n",
        "\n",
        "    # обнуляем градиенты, чтобы на следующем шаге опять посчитать и не аккумулировать их\n",
        "    w.grad.data.zero_()\n",
        "    b.grad.data.zero_()\n",
        "\n",
        "    # рисуем картинки\n",
        "    if (i+1) % 5 == 0:\n",
        "        clear_output(True)\n",
        "        plt.scatter(x.data.numpy(), y.data.numpy())\n",
        "        plt.scatter(x.data.numpy(), y_pred.data.numpy(),\n",
        "                    color='orange', linewidth=5)\n",
        "        plt.show()\n",
        "\n",
        "        print(\"loss = \", loss.data.numpy())\n",
        "        if loss.data.numpy() < 0.5:\n",
        "            print(\"Done!\")\n",
        "            break\n"
      ]
    },
    {
      "cell_type": "markdown",
      "metadata": {
        "id": "YHv_arcib0uH"
      },
      "source": [
        "### Задание 6:\n",
        "\n",
        "Реализуйте для функции\n",
        "\n",
        "$$\n",
        "f(w) = \\prod_{i,j} \\ln(\\ln(w_{ij} + 7)\n",
        "$$\n",
        "\n",
        "процедуру градиентного спуска. Каким получилось минимальное значение?"
      ]
    },
    {
      "cell_type": "code",
      "execution_count": null,
      "metadata": {
        "id": "j3LReJswb0uH"
      },
      "outputs": [],
      "source": [
        "# ващ код  ¯\\_(⊙︿⊙)_/¯"
      ]
    },
    {
      "cell_type": "markdown",
      "metadata": {
        "id": "9R2ev4BNb0uH"
      },
      "source": [
        "# 4. Моя первая нейросеть\n",
        "\n",
        "Для того, чтобы разобраться как обучать нейросетки, нужно освоить три вещи:\n",
        "\n",
        "1. Как обрабатывать поток данных и пихать его в сетку\n",
        "2. Как сделать сетку\n",
        "3. Как написать цикл обучения"
      ]
    },
    {
      "cell_type": "markdown",
      "metadata": {
        "id": "erAeLGhhb0uH"
      },
      "source": [
        "## 4.1 Как формировать батчи и пихать их в сетку\n",
        "\n",
        "С данными помогают работать две абстракции: `Dataset` и `DataLoader`."
      ]
    },
    {
      "cell_type": "markdown",
      "metadata": {
        "id": "3wCfo8tVb0uH"
      },
      "source": [
        "`Dataset` умеет выдавать по индексу некоторый элемент и помогает итерироваться по данным. Чтобы работать с данными и применять к ним преобразования, например, аугментации, о которых вы узнаете позже — нужно создать свой класс унаследованный от `torch.utils.data.Dataset`.\n",
        "\n",
        "Вот пример из документации:\n",
        "\n",
        "```\n",
        "class FaceLandmarksDataset(torch.utils.data.Dataset):\n",
        "    \"\"\"Face Landmarks dataset.\"\"\"\n",
        "\n",
        "    def __init__(self, csv_file, root_dir, transform=None):\n",
        "        \"\"\"\n",
        "        Args:\n",
        "            csv_file (string): Path to the csv file with annotations.\n",
        "            root_dir (string): Directory with all the images.\n",
        "            transform (callable, optional): Optional transform to be applied\n",
        "                on a sample.\n",
        "        \"\"\"\n",
        "        self.landmarks_frame = pd.read_csv(csv_file)\n",
        "        self.root_dir = root_dir\n",
        "        self.transform = transform\n",
        "\n",
        "    def __len__(self):\n",
        "        return len(self.landmarks_frame)\n",
        "\n",
        "    def __getitem__(self, idx):\n",
        "        if torch.is_tensor(idx):\n",
        "            idx = idx.tolist()\n",
        "\n",
        "        img_name = os.path.join(self.root_dir,\n",
        "                                self.landmarks_frame.iloc[idx, 0])\n",
        "        image = io.imread(img_name)\n",
        "        landmarks = self.landmarks_frame.iloc[idx, 1:]\n",
        "        landmarks = np.array([landmarks])\n",
        "        landmarks = landmarks.astype('float').reshape(-1, 2)\n",
        "        sample = {'image': image, 'landmarks': landmarks}\n",
        "\n",
        "        if self.transform:\n",
        "            sample = self.transform(sample)\n",
        "\n",
        "        return sample\n",
        "```\n",
        "\n",
        "Как вы видите, у такого класса должно быть два метода:\n",
        "\n",
        "* `__len__` — возвращает информацию о том, сколько объектов у нас в датасете\n",
        "* `__getitem__` — возвращает семпл и таргет к нему\n",
        "\n",
        "Теперь давайте напишем такой сами, в качестве датасета сгенерируем рандомные данные."
      ]
    },
    {
      "cell_type": "markdown",
      "metadata": {
        "id": "vTHpm4Ltb0uI"
      },
      "source": [
        "\n"
      ]
    },
    {
      "cell_type": "code",
      "execution_count": null,
      "metadata": {
        "id": "0PYNA46gb0uI"
      },
      "outputs": [],
      "source": [
        "class RandomDataset(torch.utils.data.Dataset):\n",
        "    \"\"\"Our random dataset\"\"\"\n",
        "\n",
        "    def __init__(self, x, y):\n",
        "        self.x=x\n",
        "        self.y=y\n",
        "\n",
        "    def __len__(self):\n",
        "        return len(self.x)\n",
        "\n",
        "    def __getitem__(self, idx):\n",
        "        return {'sample': torch.tensor(x[idx, :], dtype=torch.float), 'target': y[idx]}"
      ]
    },
    {
      "cell_type": "code",
      "execution_count": null,
      "metadata": {
        "id": "XAqC6uJZb0uI"
      },
      "outputs": [],
      "source": [
        "x = np.random.rand(1000, 5)\n",
        "y = np.random.rand(1000)"
      ]
    },
    {
      "cell_type": "code",
      "execution_count": null,
      "metadata": {
        "id": "6d7uFP2Bb0uI"
      },
      "outputs": [],
      "source": [
        "our_dataset = RandomDataset(x, y)"
      ]
    },
    {
      "cell_type": "code",
      "execution_count": null,
      "metadata": {
        "id": "BnBWRWg5b0uI"
      },
      "outputs": [],
      "source": [
        "our_dataset.__getitem__(1)"
      ]
    },
    {
      "cell_type": "markdown",
      "metadata": {
        "id": "xcBu6lvcb0uI"
      },
      "source": [
        "`Dataset` умеет говорить сколько в выборке объектов и брать из неё очередной. Этого мало. Данные хочется как-то видоизменять. Для этого есть такая сущность как `DataLoader`.\n",
        "\n",
        "Он принимает на вход класс унаследованный от `torch.utils.data.Dataset` и преобразовывает его."
      ]
    },
    {
      "cell_type": "code",
      "execution_count": null,
      "metadata": {
        "id": "pywBamz8b0uI"
      },
      "outputs": [],
      "source": [
        "dataloader = torch.utils.data.DataLoader(our_dataset, batch_size=4)"
      ]
    },
    {
      "cell_type": "markdown",
      "metadata": {
        "id": "1Dft7WdLb0uI"
      },
      "source": [
        "Работают с ним следующим образом:"
      ]
    },
    {
      "cell_type": "code",
      "execution_count": null,
      "metadata": {
        "id": "CClZeY_2b0uI"
      },
      "outputs": [],
      "source": [
        "for batch in dataloader:\n",
        "    batch_x = batch['sample']\n",
        "    batch_y = batch['target']\n",
        "    break\n",
        "\n",
        "print('Sample:', batch_x)\n",
        "print('Target:', batch_y)"
      ]
    },
    {
      "cell_type": "markdown",
      "metadata": {
        "id": "WMY70JjKb0uJ"
      },
      "source": [
        "## 4.2 Нейронная сеть\n",
        "\n",
        "Есть несколько способов собрать нейросетку."
      ]
    },
    {
      "cell_type": "markdown",
      "metadata": {
        "id": "typQeHR9b0uJ"
      },
      "source": [
        "__Способ 1:__ Для того, чтобы в high-level pytorch создавать нейросети используется модуль `nn`. Нейросеть должна быть унаследована от класса `nn.Module`. Пример как это может выглядеть:"
      ]
    },
    {
      "cell_type": "code",
      "execution_count": null,
      "metadata": {
        "id": "dCqDj3hcb0uJ"
      },
      "outputs": [],
      "source": [
        "from torch import nn\n",
        "import torch.nn.functional as F\n",
        "\n",
        "class Model(nn.Module):\n",
        "    def __init__(self):\n",
        "        super(Model, self).__init__()\n",
        "        self.layer1 = nn.Linear(5, 3)\n",
        "        self.layer2 = nn.Linear(3, 1)\n",
        "\n",
        "    def forward(self, x):\n",
        "        x = F.relu(self.layer1(x))\n",
        "        return F.relu(self.layer2(x))"
      ]
    },
    {
      "cell_type": "markdown",
      "metadata": {
        "id": "IMmhu6onb0uJ"
      },
      "source": [
        "Как мы видим на данном примере, у данного класса должно быть метод `forward`, который определяет прямой проход нейросети. Также из класса выше видно, что модуль `nn` содержит в себе реализацию большинства слоев, а модуль `nn.functional`—  функций активаций."
      ]
    },
    {
      "cell_type": "code",
      "execution_count": null,
      "metadata": {
        "id": "faTFADwib0uJ"
      },
      "outputs": [],
      "source": [
        "model = Model()\n",
        "model(batch_x) # получили предсказания модели"
      ]
    },
    {
      "cell_type": "markdown",
      "metadata": {
        "id": "z_5K-AZmb0uJ"
      },
      "source": [
        "Если вы не очень поняли, что произошло, не пугайтесь. На следующих семинарах мы более подробно будем говорить про объектно-ориентированное программирование и научимся писать подобные модели."
      ]
    },
    {
      "cell_type": "markdown",
      "metadata": {
        "id": "z92rh-ARb0uJ"
      },
      "source": [
        "__Способ 2:__ Можно собрать модель с помощью класса `Sequential`. В его рамках сбор модели будет выглядить как строительство башни из конструктора LEGO. Модель описывается последовательно. Мы как бы создаём коробочку `model` и постепенно добавляем туда детальки нашей сетки."
      ]
    },
    {
      "cell_type": "code",
      "execution_count": null,
      "metadata": {
        "id": "IJC54Jwhb0uJ"
      },
      "outputs": [],
      "source": [
        "model = nn.Sequential()                 # создаем пустую модель, в которую будем добавлять слои\n",
        "model.add_module('l1', nn.Linear(5, 3)) # добавили слой с 5-ю нейронами на вход и 3-мя на выход\n",
        "model.add_module('l2', nn.ReLU())       # добавили функцию активации\n",
        "model.add_module('l3', nn.Linear(3, 1)) # добавили слой с 3-мя нейронами на вход и 5-ю на выход"
      ]
    },
    {
      "cell_type": "code",
      "execution_count": null,
      "metadata": {
        "id": "py3Qw-6ib0uJ"
      },
      "outputs": [],
      "source": [
        "model(batch_x) # получили предсказания модели"
      ]
    },
    {
      "cell_type": "markdown",
      "metadata": {
        "id": "BiyK2Pxhb0uJ"
      },
      "source": [
        "__Способ 3:__ Описать модель функционально, в явном виде прописав какие аргументы идут на вход какому слою."
      ]
    },
    {
      "cell_type": "code",
      "execution_count": null,
      "metadata": {
        "id": "QOqZNuP6b0uJ"
      },
      "outputs": [],
      "source": [
        "h = nn.Linear(5, 3)(batch_x)\n",
        "h = nn.ReLU()(h)\n",
        "out = nn.Linear(3, 1)(h)\n",
        "out"
      ]
    },
    {
      "cell_type": "markdown",
      "metadata": {
        "id": "x8bH0Atqb0uK"
      },
      "source": [
        "Обычно модель объявляют в виде класса, а второй и третий способ используют, чтобы вычисления внутри него выглядели более красиво."
      ]
    },
    {
      "cell_type": "markdown",
      "metadata": {
        "id": "gwisrCUtb0uK"
      },
      "source": [
        "## 4.3 Цикл для обучения модели\n",
        "\n",
        "Осталось научиться писать циклы для обучения. Давайте подгрузим настоящие данные, соберём модель и обучим её."
      ]
    },
    {
      "cell_type": "code",
      "execution_count": null,
      "metadata": {
        "id": "sk0LvJHEb0uK"
      },
      "outputs": [],
      "source": [
        "from torchvision.datasets import MNIST\n",
        "from torch.utils.data import Dataset, DataLoader\n",
        "\n",
        "# внутри модуля transforms есть много полезных преобразований\n",
        "# пока что нам из него понадобится только T.ToTensor()\n",
        "# для конвертации картинки в тензор\n",
        "import torchvision.transforms as T"
      ]
    },
    {
      "cell_type": "markdown",
      "metadata": {
        "id": "bERxDoicb0uK"
      },
      "source": [
        "Не будем выпендриваться и как все обучим [наборе рукопистных цифр MNIST.](http://yann.lecun.com/exdb/mnist/)"
      ]
    },
    {
      "cell_type": "code",
      "execution_count": null,
      "metadata": {
        "id": "ePFOfDcnb0uK"
      },
      "outputs": [],
      "source": [
        "train_set = MNIST('.MNIST', transform=T.ToTensor(), train=True, download=True)\n",
        "test_set = MNIST('.MNIST', transform=T.ToTensor(), train=False, download=True)"
      ]
    },
    {
      "cell_type": "markdown",
      "metadata": {
        "id": "q2Xv_Cxdb0uK"
      },
      "source": [
        "`train_set` в данном случае это датасет. Давайте нарисуем несколько изображений."
      ]
    },
    {
      "cell_type": "code",
      "execution_count": null,
      "metadata": {
        "id": "-lTXu-Tbb0uL"
      },
      "outputs": [],
      "source": [
        "cols = 8\n",
        "rows = 2\n",
        "fig = plt.figure(figsize=(2 * cols, 2.5 * rows))\n",
        "for i in range(cols):\n",
        "    for j in range(rows):\n",
        "        random_index = np.random.randint(0, len(train_set))\n",
        "        ax = fig.add_subplot(rows, cols, i * rows + j + 1)\n",
        "        ax.grid(False)\n",
        "        ax.set_xticks([])\n",
        "        ax.set_yticks([])\n",
        "        ax.imshow(train_set[random_index][0].squeeze(0).numpy().reshape([28, 28]), cmap = 'gray')\n",
        "        ax.set_xlabel(train_set[random_index][1])\n",
        "plt.show()"
      ]
    },
    {
      "cell_type": "markdown",
      "metadata": {
        "id": "qjkTkAmwb0uL"
      },
      "source": [
        "Каждая картинка это матрица из чисел. Если число большое - пиксель яркий. Если маленькое - тёмный."
      ]
    },
    {
      "cell_type": "code",
      "execution_count": null,
      "metadata": {
        "id": "5GOL4XX4b0uL"
      },
      "outputs": [],
      "source": [
        "train_set[5][0].shape"
      ]
    },
    {
      "cell_type": "markdown",
      "metadata": {
        "id": "GOaLpswxb0uL"
      },
      "source": [
        "Будем прогнозировать тип картинки по её пикселям. Подготовим данные с помощью `DataLoader`. Пока что попробуем настроить его максимально просто. В будущем мы увидим с вами другую магию, на которую способна эта абстракция."
      ]
    },
    {
      "cell_type": "markdown",
      "metadata": {
        "id": "Aza-nawQb0uL"
      },
      "source": [
        "### Задание 7:\n",
        "\n",
        "Напишите `DataLoader` для тренировочной и тестовой выборок. Попробуйте проитерироваться по нескольким его первым объектам с помощью цикла.\n",
        "\n",
        "В обучающей выборке данные должны перемешиваться каждую эпоху. Размер батча поставьте равным 64. В тестовой выборке данных перемешивать не надо."
      ]
    },
    {
      "cell_type": "code",
      "execution_count": null,
      "metadata": {
        "id": "F3HRf86Ub0uL"
      },
      "outputs": [],
      "source": [
        "# ващ код  ¯\\_(⊙︿⊙)_/¯"
      ]
    },
    {
      "cell_type": "markdown",
      "metadata": {
        "id": "fRPl0yQAb0uL"
      },
      "source": [
        "### Задание 8:\n",
        "\n",
        "Напишите  двухслойную полносвязную нейросеть. Выходной слой должен состоять из $10$ нейронов с `Softmax` в качестве функции активации, так как мы решаем задачу классификации $10$ классов."
      ]
    },
    {
      "cell_type": "code",
      "execution_count": null,
      "metadata": {
        "id": "YA_B76-Ob0uL"
      },
      "outputs": [],
      "source": [
        "class MLP(nn.Module):\n",
        "    def __init__(self, in_features, num_classes, hidden_size):\n",
        "        super().__init__()\n",
        "        self.model = nn.Sequential(\n",
        "\n",
        "            # ващ код  ¯\\_(⊙︿⊙)_/¯\n",
        "            # ващ код  ¯\\_(⊙︿⊙)_/¯\n",
        "            # ващ код  ¯\\_(⊙︿⊙)_/¯\n",
        "        )\n",
        "\n",
        "    def forward(self, x):\n",
        "        return self.model(x)"
      ]
    },
    {
      "cell_type": "code",
      "execution_count": null,
      "metadata": {
        "id": "hWQ8BHzNb0uM"
      },
      "outputs": [],
      "source": [
        "model = MLP(28**2, 10, 20)"
      ]
    },
    {
      "cell_type": "markdown",
      "metadata": {
        "id": "v9m-P8QFb0uM"
      },
      "source": [
        "Веса моделей хранятся в виде матриц и выглядят так:"
      ]
    },
    {
      "cell_type": "code",
      "execution_count": null,
      "metadata": {
        "id": "zxWftVopb0uM"
      },
      "outputs": [],
      "source": [
        "# [x for x in model.named_parameters()]"
      ]
    },
    {
      "cell_type": "markdown",
      "metadata": {
        "id": "MMjaIrseb0uM"
      },
      "source": [
        "Объявляем модель и оптимизатор."
      ]
    },
    {
      "cell_type": "code",
      "execution_count": null,
      "metadata": {
        "id": "fSaUkGZ8b0uM"
      },
      "outputs": [],
      "source": [
        "IMG_SIZE = 28\n",
        "NUM_CLASSES = 10\n",
        "HIDDEN_SIZE = 64\n",
        "NUM_EPOCHS = 10\n",
        "\n",
        "device = torch.device('cuda:0' if torch.cuda.is_available() else 'cpu')\n",
        "model = MLP(in_features=IMG_SIZE ** 2, num_classes=NUM_CLASSES, hidden_size=HIDDEN_SIZE).to(device)\n",
        "\n",
        "# оптимайзер\n",
        "optimizer = torch.optim.SGD(model.parameters(), lr=0.01, momentum=0.9)\n",
        "\n",
        "# функция потерь\n",
        "criterion = nn.CrossEntropyLoss()  # nn.NLLLoss()\n"
      ]
    },
    {
      "cell_type": "markdown",
      "metadata": {
        "id": "nHWJBzVsb0uM"
      },
      "source": [
        "Осталось всё это дело обучить. Для этого нам придётся написать цикл"
      ]
    },
    {
      "cell_type": "code",
      "execution_count": null,
      "metadata": {
        "id": "qQcFdZPTb0uM"
      },
      "outputs": [],
      "source": [
        "from tqdm.notebook import tqdm\n",
        "\n",
        "# NUM_EPOCHS раз подряд пройдемся по всем батчам из трейна\n",
        "for epoch in range(NUM_EPOCHS):\n",
        "\n",
        "    # берем батч из трейн лоадера\n",
        "    for images, labels in tqdm(train_loader):\n",
        "\n",
        "        # отправляем тензоры на девайс к сетке\n",
        "        images = images.to(device)\n",
        "        labels = labels.to(device)\n",
        "\n",
        "        ### Пишем самые важные 5 строк\n",
        "        ### Мы их дальше будем встречать везде\n",
        "\n",
        "        # зануляем старые градиенты иначе они сложатся\n",
        "        optimizer.zero_grad()\n",
        "\n",
        "        # вызываем модель\n",
        "        logits = model(torch.flatten(images, start_dim=1))\n",
        "        # (batch_size, x, num_classes) - размерность\n",
        "\n",
        "        # считаем функцию потерь\n",
        "        loss = criterion(logits, labels)\n",
        "\n",
        "        # считаем градиенты обратным проходом\n",
        "        loss.backward()\n",
        "\n",
        "        # обновляем параметры сети (шаг спуска)\n",
        "        optimizer.step()\n",
        "\n",
        "    if epoch % 2 == 0:\n",
        "        mean_val_loss = [] # сюда будем складывать средний лосс по батчам\n",
        "        val_accuracy = []\n",
        "\n",
        "        # берем батч из вал лоадера для валидации\n",
        "        for images, labels in tqdm(test_loader, desc='Validating'):\n",
        "            images = images.to(device)\n",
        "            labels = labels.to(device)\n",
        "\n",
        "            # мы считаем качество, поэтому мы запрещаем фреймворку считать градиенты по параметрам\n",
        "            with torch.no_grad():\n",
        "                # делаем предсказания\n",
        "                logits = model(torch.flatten(images, start_dim=1))\n",
        "\n",
        "                # считаем ошибку на валидации\n",
        "                loss = criterion(logits, labels)\n",
        "\n",
        "                mean_val_loss.append(loss.numpy()) # добавляем в массив\n",
        "                val_accuracy.extend((torch.argmax(logits, dim=-1) == labels).numpy().tolist())\n",
        "\n",
        "        # выводим статистику\n",
        "        print('Epoch: {epoch}, loss: {loss}, accuracy: {accuracy}'.format(\n",
        "                epoch=epoch, loss=np.mean(mean_val_loss), accuracy=np.mean(val_accuracy)\n",
        "        ))\n"
      ]
    },
    {
      "cell_type": "markdown",
      "metadata": {
        "id": "R0-TMdY-b0uM"
      },
      "source": [
        "Кажется, что всё работает."
      ]
    },
    {
      "cell_type": "markdown",
      "metadata": {
        "id": "Gr7B-HCZb0uN"
      },
      "source": [
        "### Ещё одно задание:\n",
        "\n",
        "На следующей паре мы продолжим обучать эту сетку и попробуем улучшить получившийся у нас пайплайн. Попробуйте для удобства вынести один шаг обучения модели и один шаг валидации модели в отдельные небольшие функции, чтобы код стал более читаемым."
      ]
    },
    {
      "cell_type": "markdown",
      "metadata": {
        "id": "R0Rf17hDb0uN"
      },
      "source": [
        "## Почиташки\n",
        "\n",
        "__Откуда взялась эта тетрадка?__\n",
        "\n",
        "Когда я писал эту тетрадку, я ориентировался на четыре источника:\n",
        "\n",
        "- [Введение в pytorch от ШАД](https://github.com/yandexdataschool/Practical_DL/blob/fall22/week02_autodiff/seminar_pytorch.ipynb)\n",
        "- [Тетрадка с введением в pytorch с ИАД](https://github.com/hse-ds/iad-deep-learning/blob/master/2022/seminars/sem01/sem01.ipynb) (её взяли из ШАД)\n",
        "- [Введение в pytorch от Samsung](https://github.com/SlinkoIgor/Neural_Networks_and_CV)\n",
        "- [Экспромт Ильдуса с семинаров по DL на ФКН](https://github.com/isadrtdinov/intro-to-dl-hse/tree/2022-2023/seminars/202)\n",
        "\n",
        "Я добавил к ним свою больную фантазию и получилось то, что получилось.\n",
        "\n",
        "\n",
        "__Что можно почитать?__\n",
        "\n",
        "* [Документация торча](https://pytorch.org/docs/master/)\n",
        "* [Использование pytorch на GPU](https://pytorch.org/docs/master/notes/cuda.html)\n",
        "* [Хорошая книга про pytorch](http://download.webclark.org/Deep-Learning-with-PyTorch.pdf)\n",
        "* [Pytorch за 60 минут](http://pytorch.org/tutorials/beginner/deep_learning_60min_blitz.html)\n",
        "* [Как устроено автоматическое дифференцирование в pytorch](http://videolectures.net/site/normal_dl/tag=1129745/deeplearning2017_johnson_automatic_differentiation_01.pdf)\n",
        "* [PyTorch examples](https://github.com/pytorch/examples)\n",
        "* [Practical pytorch tutorials](https://github.com/spro/practical-pytorch)"
      ]
    }
  ],
  "metadata": {
    "kernelspec": {
      "display_name": "Python 3 (ipykernel)",
      "language": "python",
      "name": "python3"
    },
    "language_info": {
      "codemirror_mode": {
        "name": "ipython",
        "version": 3
      },
      "file_extension": ".py",
      "mimetype": "text/x-python",
      "name": "python",
      "nbconvert_exporter": "python",
      "pygments_lexer": "ipython3",
      "version": "3.10.9"
    },
    "varInspector": {
      "cols": {
        "lenName": 16,
        "lenType": 16,
        "lenVar": 40
      },
      "kernels_config": {
        "python": {
          "delete_cmd_postfix": "",
          "delete_cmd_prefix": "del ",
          "library": "var_list.py",
          "varRefreshCmd": "print(var_dic_list())"
        },
        "r": {
          "delete_cmd_postfix": ") ",
          "delete_cmd_prefix": "rm(",
          "library": "var_list.r",
          "varRefreshCmd": "cat(var_dic_list()) "
        }
      },
      "types_to_exclude": [
        "module",
        "function",
        "builtin_function_or_method",
        "instance",
        "_Feature"
      ],
      "window_display": false
    },
    "colab": {
      "provenance": [],
      "include_colab_link": true
    }
  },
  "nbformat": 4,
  "nbformat_minor": 0
}