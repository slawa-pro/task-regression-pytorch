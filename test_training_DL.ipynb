{
  "nbformat": 4,
  "nbformat_minor": 0,
  "metadata": {
    "colab": {
      "provenance": [],
      "gpuType": "T4",
      "include_colab_link": true
    },
    "kernelspec": {
      "name": "python3",
      "display_name": "Python 3"
    },
    "language_info": {
      "name": "python"
    }
  },
  "cells": [
    {
      "cell_type": "markdown",
      "metadata": {
        "id": "view-in-github",
        "colab_type": "text"
      },
      "source": [
        "<a href=\"https://colab.research.google.com/github/slawa-pro/task-regression-pytorch/blob/main/test_training_DL.ipynb\" target=\"_parent\"><img src=\"https://colab.research.google.com/assets/colab-badge.svg\" alt=\"Open In Colab\"/></a>"
      ]
    },
    {
      "cell_type": "code",
      "source": [
        "!nvidia-smi"
      ],
      "metadata": {
        "id": "c5FyM59gDdaj",
        "collapsed": true,
        "outputId": "644e156b-b9b5-4e21-a59c-92e8b9485771",
        "colab": {
          "base_uri": "https://localhost:8080/"
        }
      },
      "execution_count": null,
      "outputs": [
        {
          "output_type": "stream",
          "name": "stdout",
          "text": [
            "Sun Jul  6 16:33:51 2025       \n",
            "+-----------------------------------------------------------------------------------------+\n",
            "| NVIDIA-SMI 550.54.15              Driver Version: 550.54.15      CUDA Version: 12.4     |\n",
            "|-----------------------------------------+------------------------+----------------------+\n",
            "| GPU  Name                 Persistence-M | Bus-Id          Disp.A | Volatile Uncorr. ECC |\n",
            "| Fan  Temp   Perf          Pwr:Usage/Cap |           Memory-Usage | GPU-Util  Compute M. |\n",
            "|                                         |                        |               MIG M. |\n",
            "|=========================================+========================+======================|\n",
            "|   0  Tesla T4                       Off |   00000000:00:04.0 Off |                    0 |\n",
            "| N/A   36C    P8              9W /   70W |       0MiB /  15360MiB |      0%      Default |\n",
            "|                                         |                        |                  N/A |\n",
            "+-----------------------------------------+------------------------+----------------------+\n",
            "                                                                                         \n",
            "+-----------------------------------------------------------------------------------------+\n",
            "| Processes:                                                                              |\n",
            "|  GPU   GI   CI        PID   Type   Process name                              GPU Memory |\n",
            "|        ID   ID                                                               Usage      |\n",
            "|=========================================================================================|\n",
            "|  No running processes found                                                             |\n",
            "+-----------------------------------------------------------------------------------------+\n"
          ]
        }
      ]
    },
    {
      "cell_type": "code",
      "source": [
        "from google.colab import drive\n",
        "drive.mount('/content/drive')"
      ],
      "metadata": {
        "id": "a2vB18gHsGQ-",
        "colab": {
          "base_uri": "https://localhost:8080/"
        },
        "outputId": "f3f34588-f3d9-47da-d09d-f11375375314"
      },
      "execution_count": null,
      "outputs": [
        {
          "output_type": "stream",
          "name": "stdout",
          "text": [
            "Mounted at /content/drive\n"
          ]
        }
      ]
    },
    {
      "cell_type": "code",
      "source": [
        "#Задача: Предсказание стоимости доставки за км в рублях\n",
        "#Что нужно сделать:\n",
        "#Загрузите данные в тензоры PyTorch.\n",
        "#Инициализируйте параметры w и b (начальные значения — любые).\n",
        "#Напишите цикл обучения с:\n",
        "    #вычислением предсказания (y_pred),\n",
        "    #расчётом ошибки (MSE),\n",
        "    #обратным распространением (backward()),\n",
        "    #шагом оптимизатора (step()).\n",
        "#Выведите итоговые значения w и b.\n",
        "\n",
        "\n",
        "import torch\n",
        "# Найти зависимость y = w * x + b\n",
        "x = torch.tensor([1.0, 2.5, 3.0, 5.0, 7.5, 10.0])\n",
        "y = torch.tensor([150, 250, 300, 450, 600, 750])\n",
        "\n",
        "\n",
        "w = torch.tensor(0.0, requires_grad=True)\n",
        "b = torch.tensor(0.0, requires_grad=True)\n",
        "\n",
        "optimizer = torch.optim.Adam([w, b], lr=0.01)\n",
        "for epoch in range(100):\n",
        "    y_pred = w * x + b\n",
        "    loss = ((y_pred - y)**2).mean()\n",
        "\n",
        "    optimizer.zero_grad()\n",
        "    loss.backward()\n",
        "    optimizer.step()\n",
        "\n",
        "    if epoch % 10 == 0:\n",
        "        print(f\"Epoch {epoch}, w={w.item():.3f}, b={b.item():.3f}, loss={loss.item():.3f}\")"
      ],
      "metadata": {
        "colab": {
          "base_uri": "https://localhost:8080/"
        },
        "id": "Mj1-FKPzd8CE",
        "outputId": "55905455-5466-4077-916c-f0e864d0e276"
      },
      "execution_count": null,
      "outputs": [
        {
          "output_type": "stream",
          "name": "stdout",
          "text": [
            "Epoch 0, w=0.010, b=0.010, loss=216666.672\n",
            "Epoch 10, w=0.110, b=0.110, loss=216052.938\n",
            "Epoch 20, w=0.210, b=0.210, loss=215440.297\n",
            "Epoch 30, w=0.310, b=0.310, loss=214828.750\n",
            "Epoch 40, w=0.410, b=0.410, loss=214218.422\n",
            "Epoch 50, w=0.510, b=0.510, loss=213609.328\n",
            "Epoch 60, w=0.609, b=0.609, loss=213001.516\n",
            "Epoch 70, w=0.709, b=0.709, loss=212395.000\n",
            "Epoch 80, w=0.809, b=0.809, loss=211789.766\n",
            "Epoch 90, w=0.908, b=0.908, loss=211185.812\n"
          ]
        }
      ]
    },
    {
      "cell_type": "markdown",
      "source": [],
      "metadata": {
        "id": "Lczo21pAscON"
      }
    }
  ]
}