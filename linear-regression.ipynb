{
 "cells": [
  {
   "cell_type": "code",
   "execution_count": 2,
   "id": "0d7c3ebf-1b99-46ea-9ea2-d68d4205c468",
   "metadata": {},
   "outputs": [
    {
     "name": "stdout",
     "output_type": "stream",
     "text": [
      "Epoch 0, w=0.500, b=0.420, loss=0.833\n",
      "Epoch 10, w=0.695, b=0.050, loss=0.058\n",
      "Epoch 20, w=1.240, b=0.088, loss=0.067\n",
      "Epoch 30, w=0.909, b=0.071, loss=0.024\n",
      "Epoch 40, w=0.960, b=0.045, loss=0.005\n",
      "Epoch 50, w=1.051, b=0.025, loss=0.006\n",
      "Epoch 60, w=1.004, b=0.008, loss=0.003\n",
      "Epoch 70, w=0.980, b=-0.004, loss=0.003\n",
      "Epoch 80, w=0.991, b=-0.006, loss=0.003\n",
      "Epoch 90, w=1.001, b=-0.001, loss=0.003\n"
     ]
    }
   ],
   "source": [
    "#Задача: Предсказание стоимости доставки за км в рублях\n",
    "#Что нужно сделать:\n",
    "#Загрузите данные в тензоры PyTorch.\n",
    "#Инициализируйте параметры w и b (начальные значения — любые).\n",
    "#Напишите цикл обучения с:\n",
    "    #вычислением предсказания (y_pred),\n",
    "    #расчётом ошибки (MSE),\n",
    "    #обратным распространением (backward()),\n",
    "    #шагом оптимизатора (step()).\n",
    "#Выведите итоговые значения w и b.\n",
    "\n",
    "\n",
    "import torch\n",
    "# Найти зависимость y = w * x + b\n",
    "x = torch.tensor([1.0, 2.5, 3.0, 5.0, 7.5, 10.0], dtype=torch.float32)\n",
    "y = torch.tensor([150, 250, 300, 450, 600, 750], dtype=torch.float32)\n",
    "\n",
    "x = (x - x.mean()) / x.std()\n",
    "y = (y - y.mean()) / y.std()\n",
    "\n",
    "w = torch.tensor(0.0, requires_grad=True)\n",
    "b = torch.tensor(0.0, requires_grad=True)\n",
    "\n",
    "optimizer = torch.optim.Adam([w, b], lr=0.5)\n",
    "for epoch in range(100):\n",
    "    y_pred = w * x + b\n",
    "    loss = ((y_pred - y)**2).mean()\n",
    "\n",
    "    optimizer.zero_grad()\n",
    "    loss.backward()\n",
    "    optimizer.step()\n",
    "\n",
    "    if epoch % 10 == 0:\n",
    "        print(f\"Epoch {epoch}, w={w.item():.3f}, b={b.item():.3f}, loss={loss.item():.3f}\")"
   ]
  },
  {
   "cell_type": "code",
   "execution_count": 3,
   "id": "fb82e221-5c02-488e-a88c-3fcf6a7f23ab",
   "metadata": {},
   "outputs": [],
   "source": [
    "#Задача: Предсказание цены аренды квартиры\n",
    "#Площадь (м²)\n",
    "#Количество комнат\n",
    "#Расстояние до центра (км)\n",
    "#Нужно предсказать: Цену аренды (руб/мес)\n",
    "\n",
    "import torch\n",
    "\n",
    "x_data = torch.tensor([\n",
    "    [30, 1, 5],   # маленькая 1-комнатная\n",
    "    [45, 1, 2],   # 1-комнатная ближе к центру\n",
    "    [60, 2, 3],   # 2-комнатная\n",
    "    [80, 3, 1],   # 3-комнатная в центре\n",
    "    [40, 1, 10],  # далеко от центра\n",
    "    [65, 2, 4],\n",
    "], dtype=torch.float32)"
   ]
  }
 ],
 "metadata": {
  "kernelspec": {
   "display_name": "Python 3 (ipykernel)",
   "language": "python",
   "name": "python3"
  },
  "language_info": {
   "codemirror_mode": {
    "name": "ipython",
    "version": 3
   },
   "file_extension": ".py",
   "mimetype": "text/x-python",
   "name": "python",
   "nbconvert_exporter": "python",
   "pygments_lexer": "ipython3",
   "version": "3.12.7"
  }
 },
 "nbformat": 4,
 "nbformat_minor": 5
}
